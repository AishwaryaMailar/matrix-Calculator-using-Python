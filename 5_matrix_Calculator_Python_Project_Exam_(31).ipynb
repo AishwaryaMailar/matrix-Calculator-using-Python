{
  "nbformat": 4,
  "nbformat_minor": 0,
  "metadata": {
    "colab": {
      "provenance": []
    },
    "kernelspec": {
      "name": "python3",
      "display_name": "Python 3"
    },
    "language_info": {
      "name": "python"
    }
  },
  "cells": [
    {
      "cell_type": "code",
      "execution_count": null,
      "metadata": {
        "colab": {
          "base_uri": "https://localhost:8080/"
        },
        "id": "nVoAGrqG56sY",
        "outputId": "f42bfd74-a6b4-40d9-e559-899c95c2b1af"
      },
      "outputs": [
        {
          "output_type": "stream",
          "name": "stdout",
          "text": [
            "\n",
            "Enter values for Matrix 1 (row by row, space separated):\n",
            "Enter number of rows for Matrix 1: 2\n",
            "Enter number of columns for Matrix 1: 2\n",
            "Enter elements for Matrix 1:\n",
            "3 5 \n",
            "3 6\n",
            "\n",
            "Enter values for Matrix 2 (row by row, space separated):\n",
            "Enter number of rows for Matrix 2: 2\n",
            "Enter number of columns for Matrix 2: 2\n",
            "Enter elements for Matrix 2:\n",
            "5  6\n",
            "2  8\n",
            "\n",
            "Choose Operation: add / subtract / multiply\n",
            "Enter operation: substract\n",
            "Error: Invalid operation\n"
          ]
        }
      ],
      "source": [
        "import numpy as np\n",
        "\n",
        "# Function to take matrix input\n",
        "def input_matrix(n):\n",
        "    print(f\"\\nEnter values for Matrix {n} (row by row, space separated):\")\n",
        "    rows = int(input(f\"Enter number of rows for Matrix {n}: \"))\n",
        "    cols = int(input(f\"Enter number of columns for Matrix {n}: \"))\n",
        "    print(f\"Enter elements for Matrix {n}:\")\n",
        "    matrix = []\n",
        "    for _ in range(rows):\n",
        "        row = list(map(int, input().split()))\n",
        "        if len(row) != cols:\n",
        "            raise ValueError(\"Number of elements in row doesn't match column count.\")\n",
        "        matrix.append(row)\n",
        "    return np.array(matrix)\n",
        "\n",
        "# Take matrix inputs\n",
        "matrix1 = input_matrix(1)\n",
        "matrix2 = input_matrix(2)\n",
        "\n",
        "# Choose operation\n",
        "print(\"\\nChoose Operation: add / subtract / multiply\")\n",
        "operation = input(\"Enter operation: \").lower()\n",
        "\n",
        "# Perform operation\n",
        "try:\n",
        "    if operation == 'add':\n",
        "        result = np.add(matrix1, matrix2)\n",
        "    elif operation == 'subtract':\n",
        "        result = np.subtract(matrix1, matrix2)\n",
        "    elif operation == 'multiply':\n",
        "        result = np.matmul(matrix1, matrix2)\n",
        "    else:\n",
        "        raise ValueError(\"Invalid operation\")\n",
        "\n",
        "    print(\"\\nResult:\")\n",
        "    print(result)\n",
        "\n",
        "except ValueError as e:\n",
        "    print(\"Error:\", e)\n",
        "except Exception as e:\n",
        "    print(\"Something went wrong:\", e)\n"
      ]
    }
  ]
}